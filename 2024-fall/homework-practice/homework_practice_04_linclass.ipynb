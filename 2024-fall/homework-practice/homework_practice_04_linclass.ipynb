{
  "cells": [
    {
      "cell_type": "markdown",
      "metadata": {
        "id": "LTlmjXExP75I"
      },
      "source": [
        "# Машинное обучение, ФКН ВШЭ\n",
        "\n",
        "## Практическое задание 4. Классификация"
      ]
    },
    {
      "cell_type": "markdown",
      "metadata": {
        "id": "kH11bAAV2SoV"
      },
      "source": [
        "### Общая информация\n",
        "Дата выдачи: 16.11.2024\n",
        "\n",
        "Мягкий дедлайн: 28.11.2024\n",
        "\n",
        "Жесткий дедлайн: 02.12.2024"
      ]
    },
    {
      "cell_type": "markdown",
      "metadata": {
        "id": "iWjJuhqS3Ucc"
      },
      "source": [
        "### О задании\n",
        "\n",
        "В этом задании вы:\n",
        "- ознакомитесь с тем, что происходит \"внутри\" метода опорных векторов и логистической регрессии\n",
        "- познакомитесь с калибровкой вероятности\n",
        "- изучите методы трансформации переменных и методы отбора признаков\n",
        "- попробуете оценить экономический эффект модели\n",
        "\n",
        "----\n",
        "\n",
        "#### Самостоятельная оценка результатов\n",
        "\n",
        "Для удобства проверки, исходя из набора решенных задач, посчитайте свою максимальную оценку.\n",
        "\n",
        "**Оценка**:"
      ]
    },
    {
      "cell_type": "markdown",
      "metadata": {
        "id": "Or0r6z5v1Mmt"
      },
      "source": [
        "### Оценивание и штрафы"
      ]
    },
    {
      "cell_type": "markdown",
      "metadata": {
        "id": "CecLXG_w3zs0"
      },
      "source": [
        "Каждая из задач имеет определенную «стоимость» (указана в скобках около задачи). Максимально допустимая оценка за работу — 10 баллов.\n",
        "\n",
        "Задание выполняется самостоятельно. «Похожие» решения считаются плагиатом и все задействованные студенты (в том числе те, у кого списали) не могут получить за него больше 0 баллов (подробнее о плагиате см. на странице курса). Если вы нашли решение какого-то из заданий (или его часть) в открытом источнике, необходимо указать ссылку на этот источник в отдельном блоке в конце вашей работы (скорее всего вы будете не единственным, кто это нашел, поэтому чтобы исключить подозрение в плагиате, необходима ссылка на источник).\n",
        "\n",
        "Неэффективная реализация кода может негативно отразиться на оценке."
      ]
    },
    {
      "cell_type": "markdown",
      "metadata": {
        "id": "eMwMhTpA1MwR"
      },
      "source": [
        "### Формат сдачи"
      ]
    },
    {
      "cell_type": "markdown",
      "metadata": {
        "id": "O5qs8FC_35h7"
      },
      "source": [
        "Для сдачи задания переименуйте получившийся файл *.ipynb в соответствии со следующим форматом: homework-practice-04-linclass-__Username__.ipynb, где Username — ваша фамилия и имя на латинице именно в таком порядке (например, homework-practice-04-linclass-__IvanovIvan__.ipynb)."
      ]
    },
    {
      "cell_type": "markdown",
      "metadata": {
        "id": "KGWDDNDyP75O"
      },
      "source": [
        "# Часть 1. SVM, LR и калибровка вероятностей (2 балла + 0.5 бонус)"
      ]
    },
    {
      "cell_type": "code",
      "execution_count": 1,
      "metadata": {
        "id": "KyqoX1BNP75N"
      },
      "outputs": [],
      "source": [
        "import numpy as np\n",
        "import pandas as pd\n",
        "# import polars as pl\n",
        "import matplotlib.pyplot as plt\n",
        "%matplotlib inline\n",
        "\n",
        "pd.set_option('display.max_rows', 100)\n",
        "pd.set_option('display.max_columns', 100)\n",
        "# pl.Config().set_tbl_rows(100)\n",
        "# pl.Config().set_tbl_cols(100)"
      ]
    },
    {
      "cell_type": "markdown",
      "metadata": {
        "id": "xvhLtt4OP75Q"
      },
      "source": [
        "#### __Задание 1.1  Сравнение методов__ (0.5 балла)\n",
        "\n"
      ]
    },
    {
      "cell_type": "markdown",
      "metadata": {
        "id": "LZw2aOq9P75O"
      },
      "source": [
        "Сгенерируем синтетические данные."
      ]
    },
    {
      "cell_type": "code",
      "execution_count": 2,
      "metadata": {
        "id": "mqkczFrQP75P"
      },
      "outputs": [],
      "source": [
        "from sklearn.datasets import make_classification\n",
        "from sklearn.model_selection import train_test_split\n",
        "\n",
        "# фиксируем random_state для воспроизводимости результатов\n",
        "X, y = make_classification(\n",
        "    n_samples=10000, n_features=10, n_informative=5, n_redundant=5, random_state=42\n",
        ")\n",
        "\n",
        "X_train, X_test, y_train, y_test = train_test_split(X, y, test_size=0.3, random_state=42)"
      ]
    },
    {
      "cell_type": "markdown",
      "metadata": {
        "id": "BdPx-lQbtaRe"
      },
      "source": [
        "__Случайный классификатор__\n",
        "\n",
        "Для начала зададим самую простую модель, которая на каждом объекте выдаёт случайный ответ. По тестовой выборке вычислим AUC-ROC, AUC-PR."
      ]
    },
    {
      "cell_type": "code",
      "execution_count": 3,
      "metadata": {
        "id": "5gcSglAOjVn-",
        "colab": {
          "base_uri": "https://localhost:8080/"
        },
        "outputId": "c593c237-1319-4b1d-dbdd-5877aa42cfb1"
      },
      "outputs": [
        {
          "output_type": "execute_result",
          "data": {
            "text/plain": [
              "array([0.37454012, 0.95071431, 0.73199394, ..., 0.30978786, 0.29004553,\n",
              "       0.87141403])"
            ]
          },
          "metadata": {},
          "execution_count": 3
        }
      ],
      "source": [
        "from sklearn.dummy import DummyClassifier\n",
        "random_classifier = DummyClassifier(strategy='uniform', random_state=42).fit(X_train, y_train)\n",
        "y_random = random_classifier.predict_proba(X_test)[:,1]\n",
        "y_random"
      ]
    },
    {
      "cell_type": "markdown",
      "metadata": {
        "id": "bUhBXPre7jNi"
      },
      "source": [
        "**Вопрос:** решаем задачу бинарной классификации, но y\\_random содержит какие-то дробные числа, а не 0/1. Почему?\n",
        "\n"
      ]
    },
    {
      "cell_type": "markdown",
      "metadata": {
        "id": "RpIDxyuHH1bt"
      },
      "source": [
        "**Ответ**: # your answer here"
      ]
    },
    {
      "cell_type": "markdown",
      "metadata": {
        "id": "LnmZFwEYDVqx"
      },
      "source": [
        "*Ниже приведен **пример** работы* со встроенными функциями `sklearn` для отрисовки ROC и PR кривых, сохранения метрик. Пайплайн можно изменять как вам удобно."
      ]
    },
    {
      "cell_type": "code",
      "execution_count": 4,
      "metadata": {
        "id": "gNJLhNj7DkLx"
      },
      "outputs": [],
      "source": [
        "from sklearn.metrics import average_precision_score\n",
        "\n",
        "from sklearn.metrics import precision_recall_curve\n",
        "from sklearn.metrics import PrecisionRecallDisplay\n",
        "\n",
        "from sklearn.metrics import roc_auc_score\n",
        "from sklearn.metrics import RocCurveDisplay"
      ]
    },
    {
      "cell_type": "code",
      "execution_count": 5,
      "metadata": {
        "colab": {
          "base_uri": "https://localhost:8080/",
          "height": 559
        },
        "id": "-WHELzN6_fsQ",
        "outputId": "35a1ba3a-f588-4fee-ce1d-3190ddc9790b"
      },
      "outputs": [
        {
          "output_type": "stream",
          "name": "stdout",
          "text": [
            "Random Classifier metrics\n",
            "AUC-PR: 0.5173\n",
            "AUC-ROC: 0.5017\n"
          ]
        },
        {
          "output_type": "display_data",
          "data": {
            "text/plain": [
              "<Figure size 1100x500 with 2 Axes>"
            ],
            "image/png": "[encoded data removed]"
          },
          "metadata": {}
        }
      ],
      "source": [
        "def depict_pr_roc(y_true, y_pred, classifier_name='Some Classifier', ax=None):\n",
        "    if ax is None:\n",
        "        fig, ax = plt.subplots(1, 2, figsize=(11, 5))\n",
        "\n",
        "    print(classifier_name, 'metrics')\n",
        "    PrecisionRecallDisplay.from_predictions(y_true, y_pred, ax=ax[0], name=classifier_name)\n",
        "    print('AUC-PR: %.4f' % average_precision_score(y_true, y_pred))\n",
        "    ax[0].set_title(\"PRC\")\n",
        "    ax[0].set_ylim(0, 1.1)\n",
        "\n",
        "    RocCurveDisplay.from_predictions(y_true, y_pred, ax=ax[1], name=classifier_name)\n",
        "    print('AUC-ROC: %.4f' % roc_auc_score(y_true, y_pred))\n",
        "    ax[1].set_title(\"ROC\")\n",
        "    ax[1].set_ylim(0, 1.1)\n",
        "\n",
        "    plt.tight_layout()\n",
        "    plt.legend()\n",
        "\n",
        "\n",
        "depict_pr_roc(y_test, y_random, 'Random Classifier')"
      ]
    },
    {
      "cell_type": "code",
      "execution_count": null,
      "metadata": {
        "colab": {
          "base_uri": "https://localhost:8080/",
          "height": 81
        },
        "id": "pSugCdAAEF2z",
        "outputId": "3c3cd961-bee5-4ca5-b607-6c51fc5e1b03"
      },
      "outputs": [
        {
          "output_type": "execute_result",
          "data": {
            "text/plain": [
              "                     auc_pr  roc_auc_score  reg_const\n",
              "Random Classifier  0.517349       0.501745        0.0"
            ],
            "text/html": [
              "\n",
              "  <div id=\"df-cba036db-553d-400d-af12-596e5409fbc8\" class=\"colab-df-container\">\n",
              "    <div>\n",
              "<style scoped>\n",
              "    .dataframe tbody tr th:only-of-type {\n",
              "        vertical-align: middle;\n",
              "    }\n",
              "\n",
              "    .dataframe tbody tr th {\n",
              "        vertical-align: top;\n",
              "    }\n",
              "\n",
              "    .dataframe thead th {\n",
              "        text-align: right;\n",
              "    }\n",
              "</style>\n",
              "<table border=\"1\" class=\"dataframe\">\n",
              "  <thead>\n",
              "    <tr style=\"text-align: right;\">\n",
              "      <th></th>\n",
              "      <th>auc_pr</th>\n",
              "      <th>roc_auc_score</th>\n",
              "      <th>reg_const</th>\n",
              "    </tr>\n",
              "  </thead>\n",
              "  <tbody>\n",
              "    <tr>\n",
              "      <th>Random Classifier</th>\n",
              "      <td>0.517349</td>\n",
              "      <td>0.501745</td>\n",
              "      <td>0.0</td>\n",
              "    </tr>\n",
              "  </tbody>\n",
              "</table>\n",
              "</div>\n",
              "    <div class=\"colab-df-buttons\">\n",
              "\n",
              "  <div class=\"colab-df-container\">\n",
              "    <button class=\"colab-df-convert\" onclick=\"convertToInteractive('df-cba036db-553d-400d-af12-596e5409fbc8')\"\n",
              "            title=\"Convert this dataframe to an interactive table.\"\n",
              "            style=\"display:none;\">\n",
              "\n",
              "  <svg xmlns=\"http://www.w3.org/2000/svg\" height=\"24px\" viewBox=\"0 -960 960 960\">\n",
              "    <path d=\"M120-120v-720h720v720H120Zm60-500h600v-160H180v160Zm220 220h160v-160H400v160Zm0 220h160v-160H400v160ZM180-400h160v-160H180v160Zm440 0h160v-160H620v160ZM180-180h160v-160H180v160Zm440 0h160v-160H620v160Z\"/>\n",
              "  </svg>\n",
              "    </button>\n",
              "\n",
              "  <style>\n",
              "    .colab-df-container {\n",
              "      display:flex;\n",
              "      gap: 12px;\n",
              "    }\n",
              "\n",
              "    .colab-df-convert {\n",
              "      background-color: #E8F0FE;\n",
              "      border: none;\n",
              "      border-radius: 50%;\n",
              "      cursor: pointer;\n",
              "      display: none;\n",
              "      fill: #1967D2;\n",
              "      height: 32px;\n",
              "      padding: 0 0 0 0;\n",
              "      width: 32px;\n",
              "    }\n",
              "\n",
              "    .colab-df-convert:hover {\n",
              "      background-color: #E2EBFA;\n",
              "      box-shadow: 0px 1px 2px rgba(60, 64, 67, 0.3), 0px 1px 3px 1px rgba(60, 64, 67, 0.15);\n",
              "      fill: #174EA6;\n",
              "    }\n",
              "\n",
              "    .colab-df-buttons div {\n",
              "      margin-bottom: 4px;\n",
              "    }\n",
              "\n",
              "    [theme=dark] .colab-df-convert {\n",
              "      background-color: #3B4455;\n",
              "      fill: #D2E3FC;\n",
              "    }\n",
              "\n",
              "    [theme=dark] .colab-df-convert:hover {\n",
              "      background-color: #434B5C;\n",
              "      box-shadow: 0px 1px 3px 1px rgba(0, 0, 0, 0.15);\n",
              "      filter: drop-shadow(0px 1px 2px rgba(0, 0, 0, 0.3));\n",
              "      fill: #FFFFFF;\n",
              "    }\n",
              "  </style>\n",
              "\n",
              "    <script>\n",
              "      const buttonEl =\n",
              "        document.querySelector('#df-cba036db-553d-400d-af12-596e5409fbc8 button.colab-df-convert');\n",
              "      buttonEl.style.display =\n",
              "        google.colab.kernel.accessAllowed ? 'block' : 'none';\n",
              "\n",
              "      async function convertToInteractive(key) {\n",
              "        const element = document.querySelector('#df-cba036db-553d-400d-af12-596e5409fbc8');\n",
              "        const dataTable =\n",
              "          await google.colab.kernel.invokeFunction('convertToInteractive',\n",
              "                                                    [key], {});\n",
              "        if (!dataTable) return;\n",
              "\n",
              "        const docLinkHtml = 'Like what you see? Visit the ' +\n",
              "          '<a target=\"_blank\" href=https://colab.research.google.com/notebooks/data_table.ipynb>data table notebook</a>'\n",
              "          + ' to learn more about interactive tables.';\n",
              "        element.innerHTML = '';\n",
              "        dataTable['output_type'] = 'display_data';\n",
              "        await google.colab.output.renderOutput(dataTable, element);\n",
              "        const docLink = document.createElement('div');\n",
              "        docLink.innerHTML = docLinkHtml;\n",
              "        element.appendChild(docLink);\n",
              "      }\n",
              "    </script>\n",
              "  </div>\n",
              "\n",
              "    </div>\n",
              "  </div>\n"
            ],
            "application/vnd.google.colaboratory.intrinsic+json": {
              "type": "dataframe",
              "variable_name": "df_metrics",
              "summary": "{\n  \"name\": \"df_metrics\",\n  \"rows\": 1,\n  \"fields\": [\n    {\n      \"column\": \"auc_pr\",\n      \"properties\": {\n        \"dtype\": \"number\",\n        \"std\": null,\n        \"min\": 0.5173486364516704,\n        \"max\": 0.5173486364516704,\n        \"num_unique_values\": 1,\n        \"samples\": [\n          0.5173486364516704\n        ],\n        \"semantic_type\": \"\",\n        \"description\": \"\"\n      }\n    },\n    {\n      \"column\": \"roc_auc_score\",\n      \"properties\": {\n        \"dtype\": \"number\",\n        \"std\": null,\n        \"min\": 0.5017448907881946,\n        \"max\": 0.5017448907881946,\n        \"num_unique_values\": 1,\n        \"samples\": [\n          0.5017448907881946\n        ],\n        \"semantic_type\": \"\",\n        \"description\": \"\"\n      }\n    },\n    {\n      \"column\": \"reg_const\",\n      \"properties\": {\n        \"dtype\": \"number\",\n        \"std\": null,\n        \"min\": 0.0,\n        \"max\": 0.0,\n        \"num_unique_values\": 1,\n        \"samples\": [\n          0.0\n        ],\n        \"semantic_type\": \"\",\n        \"description\": \"\"\n      }\n    }\n  ]\n}"
            }
          },
          "metadata": {},
          "execution_count": 120
        }
      ],
      "source": [
        "# dataframe для сравнения\n",
        "# методов классификации по метрикам\n",
        "df_metrics = pd.DataFrame(\n",
        "    columns=['auc_pr', 'roc_auc_score', 'reg_const']\n",
        ")\n",
        "precision, recall, _ = precision_recall_curve(y_test, y_random)\n",
        "# добавление очередной строки с характеристиками метода\n",
        "df_metrics.loc['Random Classifier'] = [\n",
        "      average_precision_score(y_test, y_random),\n",
        "      roc_auc_score(y_test, y_random),\n",
        "      0,\n",
        "]\n",
        "\n",
        "# по аналогии результаты следующих экспериментов можно будет собрать в табличку\n",
        "df_metrics"
      ]
    },
    {
      "cell_type": "markdown",
      "metadata": {
        "id": "9IwDobmQtW2P"
      },
      "source": [
        "__Support Vector Machine (Linear Kernel)__\n",
        "\n",
        "Обучите метод опорных векторов.\n",
        "\n",
        "Подберите параметр регуляризации `C` с точки зрения AUC-PR (можете воспользоваться кросс-валидацией или отделить валидационную выборку от обучающей).\n"
      ]
    },
    {
      "cell_type": "code",
      "execution_count": null,
      "metadata": {
        "id": "eyjF-qc3P75Q"
      },
      "outputs": [],
      "source": [
        "from sklearn.svm import LinearSVC\n",
        "\n",
        "# your code here"
      ]
    },
    {
      "cell_type": "markdown",
      "metadata": {
        "id": "fapa63xlP75R"
      },
      "source": [
        "  На тестовой части:\n",
        "  - постройте ROC и PR кривые,\n",
        "  - посчитайте AUC-ROC, AUC-PR"
      ]
    },
    {
      "cell_type": "code",
      "execution_count": null,
      "metadata": {
        "id": "xTvNT5uRP75S"
      },
      "outputs": [],
      "source": [
        "# your code here"
      ]
    },
    {
      "cell_type": "markdown",
      "source": [
        "Проанализируйте, как себя ведут обе кривые:\n",
        "- Что происходит при увеличении порога? Как бы вы это проинтерпретировали?\n",
        "- Монотонные ли кривые? Как вы это объясните?"
      ],
      "metadata": {
        "id": "FTvgDyaFhkYz"
      }
    },
    {
      "cell_type": "markdown",
      "metadata": {
        "id": "tEoGp5EDtIzW"
      },
      "source": [
        "Сравните AUC-ROC и AUC-PR для вашей модели с этими же метриками для случайного классификатора."
      ]
    },
    {
      "cell_type": "code",
      "execution_count": null,
      "metadata": {
        "id": "wnRTMhsm6Hvv"
      },
      "outputs": [],
      "source": [
        "# your code here"
      ]
    },
    {
      "cell_type": "markdown",
      "metadata": {
        "id": "Ln5VaZE_P75S"
      },
      "source": [
        "__Logistic Regression__\n",
        "\n",
        "\n",
        "Аналогичное задание для логистической регрессии с L2 регуляризатором:\n",
        "\n",
        "\n",
        "*   подберите гиперпараметр C, используя метрику AUC-PR\n",
        "*   нарисуйте ROC, PR кривые для тестовой части\n",
        "*   выведите метрики для тестовых данных и сравните их с результатами случайного классификатора\n",
        "\n"
      ]
    },
    {
      "cell_type": "code",
      "execution_count": null,
      "metadata": {
        "id": "r1TlamoBP75S"
      },
      "outputs": [],
      "source": [
        "from sklearn.linear_model import LogisticRegression\n",
        "\n",
        "# your code here"
      ]
    },
    {
      "cell_type": "markdown",
      "metadata": {
        "id": "Gnj5PG1Rm5qX"
      },
      "source": [
        "Нарисуйте ROC, PR кривые для тестовой части для всех 3 классификаторов на одном графике"
      ]
    },
    {
      "cell_type": "code",
      "execution_count": null,
      "metadata": {
        "id": "X3BaXTRBnAwK"
      },
      "outputs": [],
      "source": [
        "# your code here"
      ]
    },
    {
      "cell_type": "markdown",
      "metadata": {
        "id": "khlorKXtr1Sy"
      },
      "source": [
        "**Вопрос:** Сравните результаты LR и SVM с точки зрения всех вычисленных критериев качества, объясните различия (если они есть).\n",
        "\n"
      ]
    },
    {
      "cell_type": "markdown",
      "metadata": {
        "id": "Un_w7BMZIAf2"
      },
      "source": [
        "**Ответ:** # your answer here"
      ]
    },
    {
      "cell_type": "markdown",
      "metadata": {
        "id": "RvWzOe4wP75T"
      },
      "source": [
        "#### __Задание 1.2. Визуализация в подходах SVM, LR__ (0.5 балла)\n",
        "\n"
      ]
    },
    {
      "cell_type": "markdown",
      "metadata": {
        "id": "kWS1NfYwBbQ_"
      },
      "source": [
        "В названии метода опорных векторов присутствуют некоторые \"опорные векторы\". По сути, это объекты из обучающей выборки, которые задали положение разделяющей гиперплоскости.\n",
        "\n",
        "* Сгенерируйте синтетические данные с помощью `make_classification` __с 2 признаками__, обучите на нём метод опорных векторов. Не забудьте зафиксировать seed для воспроизводимости\n",
        "\n",
        "* Визуализируйте разделяющую прямую, все объекты и выделите опорные векторы. Ниже есть шаблоны, можете воспользоваться ими, либо написать своё"
      ]
    },
    {
      "cell_type": "code",
      "execution_count": null,
      "metadata": {
        "id": "qIS-aGxi-Nr0"
      },
      "outputs": [],
      "source": [
        "# your code here"
      ]
    },
    {
      "cell_type": "code",
      "execution_count": null,
      "metadata": {
        "colab": {
          "base_uri": "https://localhost:8080/",
          "height": 434
        },
        "id": "9jA3GbO9-wcU",
        "outputId": "bfe76c4d-7958-470d-bbb2-87c779d3fda0"
      },
      "outputs": [
        {
          "data": {
            "image/png": "[encoded data removed]",
            "text/plain": [
              "<Figure size 640x480 with 1 Axes>"
            ]
          },
          "metadata": {},
          "output_type": "display_data"
        }
      ],
      "source": [
        "def plot_svm_2D(X, y, model,  plot_support=True):\n",
        "\n",
        "    # создали сетку\n",
        "    xx = np.linspace(X[:,0].min(), X[:,0].max(), 30)\n",
        "    yy = np.linspace(X[:,1].min(), X[:,1].max(), 30)\n",
        "    YY, XX = np.meshgrid(yy, xx)\n",
        "    xy = np.vstack([XX.ravel(), YY.ravel()]).T\n",
        "\n",
        "    # Ответы модели для сетки для отрисовки разделяющей прямой\n",
        "    Z = # your code here\n",
        "\n",
        "    plt.contour(XX, YY, Z, colors='k', levels=[-1, 0, 1], alpha=0.5, linestyles=['--', '-', '--'])\n",
        "\n",
        "    # Отрисовали выборку\n",
        "    plt.scatter(\n",
        "        # your code here\n",
        "    )\n",
        "\n",
        "    # Отрисовали опорные векторы\n",
        "    if plot_support:\n",
        "        plt.scatter(\n",
        "            # your code here\n",
        "            label='support vectors',\n",
        "            s=100,\n",
        "            linewidth=1,\n",
        "            edgecolor=\"blue\",\n",
        "            facecolors='none'\n",
        "        )\n",
        "\n",
        "    plt.legend()\n",
        "\n",
        "plot_svm_2D(X, y, model)"
      ]
    },
    {
      "cell_type": "markdown",
      "metadata": {
        "id": "gdMs4iQAIYpu"
      },
      "source": [
        "**Вопрос:** какие объекты выделяются как \"опорные\"?\n",
        "\n"
      ]
    },
    {
      "cell_type": "markdown",
      "metadata": {
        "id": "dplr4chfIXnm"
      },
      "source": [
        "**Ответ:** # your answer here"
      ]
    },
    {
      "cell_type": "markdown",
      "metadata": {
        "id": "gfpVN70PP75U"
      },
      "source": [
        "В отличие от метода опорных векторов, логистическая регрессия не пытается построить разделяющую гиперплоскость с максимальным отступом, а приближает в каждой точке пространства объектов вероятность положительных ответов $p(y=+1|x)$. Попробуйте нарисовать это распределение на плоскости, не забудьте отметить на ней все объекты."
      ]
    },
    {
      "cell_type": "code",
      "execution_count": null,
      "metadata": {
        "colab": {
          "base_uri": "https://localhost:8080/",
          "height": 434
        },
        "id": "k5D2jq87f3MC",
        "outputId": "5a04f790-e90b-4f08-d25b-dd2f553d9d8d"
      },
      "outputs": [
        {
          "data": {
            "image/png": "[encoded data removed]",
            "text/plain": [
              "<Figure size 640x480 with 2 Axes>"
            ]
          },
          "metadata": {},
          "output_type": "display_data"
        }
      ],
      "source": [
        "def plot_logreg_2D(X, y, model):\n",
        "\n",
        "    # создали сетку\n",
        "    xx = np.linspace(X[:,0].min(), X[:,0].max(), 100)\n",
        "    yy = np.linspace(X[:,1].min(), X[:,1].max(), 100)\n",
        "    YY, XX = np.meshgrid(yy, xx)\n",
        "    xy = np.vstack([XX.ravel(), YY.ravel()]).T\n",
        "\n",
        "    # Ответы модели для сетки для отрисовки распределения\n",
        "    Z = # your code here\n",
        "    Z = Z.reshape((xx.shape[0], -1)).T\n",
        "\n",
        "    image = plt.imshow(\n",
        "        Z,\n",
        "        interpolation='nearest',\n",
        "        extent=(xx.min(), xx.max(), yy.min(), yy.max()),\n",
        "        aspect='auto',\n",
        "        origin='lower',\n",
        "        cmap=plt.cm.PuOr_r\n",
        "    )\n",
        "\n",
        "    #Отрисовали выборку\n",
        "    plt.scatter(\n",
        "        # your code here\n",
        "        cmap=plt.cm.Paired\n",
        "    )\n",
        "\n",
        "    plt.colorbar(image)\n",
        "\n",
        "plot_logreg_2D(X, y, model)"
      ]
    },
    {
      "cell_type": "markdown",
      "metadata": {
        "id": "AQ-Um7-6JnAp"
      },
      "source": [
        "**Вопрос:** Как на картинке визуализирована область, где модель не уверена ($p(y=+1|x) = 0.5$)? Как это обосновать теоритечески?\n",
        "\n"
      ]
    },
    {
      "cell_type": "markdown",
      "metadata": {
        "id": "SAAF0HiaIh9Z"
      },
      "source": [
        "**Ответ:** # your answer here"
      ]
    },
    {
      "cell_type": "markdown",
      "metadata": {
        "id": "4VbJR0e3P75U"
      },
      "source": [
        "#### __Задание 2. Калибровка вероятностей__ (1 балл)\n",
        "\n"
      ]
    },
    {
      "cell_type": "markdown",
      "metadata": {
        "id": "I8taLYSgBd9u"
      },
      "source": [
        "Перейдём к оценке качества выдаваемых алгоритмами вероятностей. Начнём с калибровочных кривых.\n",
        "\n",
        "Допустим, алгоритм возвращает некоторые числа от нуля до единицы. Хорошо ли они оценивают вероятность?\n",
        "\n",
        "Хорошо откалиброванный  классификатор должен выдавать значения так, чтобы среди образцов, для которых он дал значение, близкое к $\\alpha$, примерно $\\alpha * 100 \\%$ фактически принадлежали к положительному классу. (Например, если классификатор выдает 0.3 для некоторых, то 30% из них должны принадлежать классу 1)"
      ]
    },
    {
      "cell_type": "markdown",
      "metadata": {
        "id": "TRBGtMArIxMc"
      },
      "source": [
        "Для построения калибровочной криовой используем следующий алгоритм:\n",
        "\n",
        "Разобьем отрезок $[0, 1]$ на несколько маленьких отрезков одинаковой длины.\n",
        "\n",
        "Рассмотрим $i$-й отрезок с границами $[a_i, b_i]$ и предсказания $p_1, p_2, \\dots, p_k$, которые попали в него. Пусть им соответствуют истинные ответы $y_1, y_2, \\dots, y_k$. Если алгоритм выдает корректные вероятности, то среди этих истинных ответов должно быть примерно $(a_i + b_i) / 2$ единиц. Иными словами, если нарисовать кривую, у которой по оси X отложены центры отрезков, а по оси Y — доли единичных ответов этих в отрезках, то она должна оказаться диагональной.\n",
        "\n",
        "Ниже приведена функция, которая должна рисовать такие кривые. В ней допущено две ошибки — найдите и исправьте их."
      ]
    },
    {
      "cell_type": "code",
      "execution_count": null,
      "metadata": {
        "id": "R75uefZuP75V"
      },
      "outputs": [],
      "source": [
        "def plot_calibration_curve(y_test, preds):\n",
        "    bin_middle_points = []\n",
        "    bin_real_ratios = []\n",
        "    n_bins = 10\n",
        "    for i in range(n_bins):\n",
        "        l = 1.0 / n_bins * i\n",
        "        r = 1.0 / n_bins * (i + 1)\n",
        "        bin_middle_points.append((l - r) / 2)\n",
        "        bin_real_ratios.append(np.min(y_test[(preds >= l) & (preds < r)] == 1))\n",
        "    plt.figure(figsize=(6,6))\n",
        "    plt.plot(bin_middle_points, bin_real_ratios)\n",
        "    plt.ylim([-0.05, 1.05])\n",
        "    plt.grid()"
      ]
    },
    {
      "cell_type": "markdown",
      "metadata": {
        "id": "R13YCkxMO_R4"
      },
      "source": [
        "Сгенерируйте синтетические данные аналогично использованным в самом первом задании. Постройте калибровочные кривые на тестовой части для логистической регрессии и метода опорных векторов (не забудьте перевести его предсказания в $[0;1]$).\n",
        "\n",
        "Отрисуйте калибровочную кривую идеально откалиброванной модели (диагональ)"
      ]
    },
    {
      "cell_type": "code",
      "execution_count": null,
      "metadata": {
        "id": "Jk6pz90lQYST"
      },
      "outputs": [],
      "source": [
        "# your code here"
      ]
    },
    {
      "cell_type": "markdown",
      "metadata": {
        "id": "t15IAX7GPJjF"
      },
      "source": [
        "**Вопрос**: хорошо ли откалиброваны кривые для SVM, логистической регрессии? Подумайте, как это следует из вида кривой\n",
        "\n",
        "**Ответ:** # your answer here\n",
        "\n",
        "Из формальных способов в этом убедиться есть знакомый вам LogLoss, который напрямую оценивает вероятности,\n",
        "$$\\text{LogLoss} = -\\frac{1}{N}\\sum_{i} \\sum_{k \\in {0. 1}}\\log p_k[y_i = k]$$\n",
        "а так же BrierScore, который подсчитывает отклонение между получившейся вероятностью и реальным значением таргета.\n",
        "$$\\text{BrierScore} = \\frac{1}{N}\\sum_{i} (p_i - y_i)^2$$\n",
        "Посмотрите на них тоже и сделайте вывод"
      ]
    },
    {
      "cell_type": "code",
      "source": [
        "# your code here"
      ],
      "metadata": {
        "id": "tQ8d-pl26rQU"
      },
      "execution_count": null,
      "outputs": []
    },
    {
      "cell_type": "markdown",
      "metadata": {
        "id": "cgANQZyhPHIX"
      },
      "source": [
        "Изучите распределение ответов классификаторов при помощи гистограмм"
      ]
    },
    {
      "cell_type": "code",
      "execution_count": null,
      "metadata": {
        "id": "GAP1X3NObCXp"
      },
      "outputs": [],
      "source": [
        "# your code here"
      ]
    },
    {
      "cell_type": "markdown",
      "metadata": {
        "id": "S7ga-L4CPK_O"
      },
      "source": [
        "**Вопрос:** Чем они различаются? Чем вы можете объяснить это?"
      ]
    },
    {
      "cell_type": "markdown",
      "metadata": {
        "id": "LOmrLYqdPP_0"
      },
      "source": [
        "**Ответ:** # your answer here"
      ]
    },
    {
      "cell_type": "markdown",
      "metadata": {
        "id": "M9-6ClfaP75W"
      },
      "source": [
        "Воспользуйтесь `CalibratedClassifierCV` из `sklearn` для калибровки вероятностей метода опорных векторов на обучении и постройте с его помощью  предсказания для тестовой выборки."
      ]
    },
    {
      "cell_type": "code",
      "execution_count": null,
      "metadata": {
        "id": "RR3pVlSNP75W"
      },
      "outputs": [],
      "source": [
        "# your code here"
      ]
    },
    {
      "cell_type": "markdown",
      "metadata": {
        "id": "PnwOFuW6XyPc"
      },
      "source": [
        "**Вопрос:** Улучшились ли калибровочная кривая и качество калибровки?\n",
        "\n",
        "**Ответ:** # your answer here"
      ]
    },
    {
      "cell_type": "markdown",
      "metadata": {
        "id": "p2dpbXgoP75X"
      },
      "source": [
        "##### __Бонус: Авторское решение__ (0.5 балла)\n",
        "\n",
        "Реализуйте свою функцию для калибровки вероятностей, используя любой из известных подходов. Кратко опишите ваш подход и продемонстрируйте результаты. Ключевые слова для вдохновения: `Platt`, `Isotonic`."
      ]
    },
    {
      "cell_type": "code",
      "execution_count": null,
      "metadata": {
        "id": "R8mtQgBJP75X"
      },
      "outputs": [],
      "source": [
        "# your code here"
      ]
    },
    {
      "cell_type": "markdown",
      "metadata": {
        "id": "FaOVU4vJP75X"
      },
      "source": [
        "# Часть 2. Обработка категориальных переменных (4 балла + 1.5 бонус)"
      ]
    },
    {
      "cell_type": "markdown",
      "metadata": {
        "id": "8KQ9ywUEP75X"
      },
      "source": [
        "Как мы знаем, перекодировать категориальную переменную в список чисел (к примеру 1, 2, 3, ..., n) плохо, поскольку это бы задало на множестве ее значений некоторый порядок, не имеющий смысла.\n",
        "\n",
        "В этой части мы рассмотрим два основных способа обработки категориальных значений:\n",
        "- One-hot-кодирование\n",
        "- Счётчики (CTR, mean-target кодирование, ...) — каждый категориальный признак заменяется на среднее значение целевой переменной по всем объектам, имеющим одинаковое значение в этом признаке.\n",
        "\n",
        "Начнём с one-hot-кодирования. Допустим наш категориальный признак $f_j(x)$ принимает значения из множества $C=\\{c_1, \\dots, c_m\\}$. Заменим его на $m$ бинарных признаков $b_1(x), \\dots, b_m(x)$, каждый из которых является индикатором одного из возможных категориальных значений:\n",
        "$$\n",
        "b_i(x) = [f_j(x) = c_i]\n",
        "$$"
      ]
    },
    {
      "cell_type": "markdown",
      "metadata": {
        "id": "pPsScraBP75Y"
      },
      "source": [
        "#### __Подготовка данных__\n",
        "\n",
        "*(бесценный шаг)*\n",
        "\n",
        "Разберем датасет [покупок велосипедов](https://www.kaggle.com/datasets/heeraldedhia/bike-buyers/): даны признаки покупателя, требуется предсказать, купит ли он/она велосипед\n",
        "\n"
      ]
    },
    {
      "cell_type": "markdown",
      "metadata": {
        "id": "BPuDzNoCo2nk"
      },
      "source": [
        "Замените пропуски в категориальных переменных на новую категорию (`'undefined'`)\n",
        "\n",
        "Разделите признаки на 2 таблицы: категориальные и числовые признаки"
      ]
    },
    {
      "cell_type": "code",
      "source": [
        "import kagglehub\n",
        "\n",
        "path = kagglehub.dataset_download(\"heeraldedhia/bike-buyers\") +  \"/bike_buyers.csv\""
      ],
      "metadata": {
        "colab": {
          "base_uri": "https://localhost:8080/"
        },
        "id": "5MTr7gi1PMqv",
        "outputId": "ac75b395-3705-4a43-f024-b793d0e48c80"
      },
      "execution_count": null,
      "outputs": [
        {
          "output_type": "stream",
          "name": "stdout",
          "text": [
            "Warning: Looks like you're using an outdated `kagglehub` version, please consider updating (latest version: 0.3.4)\n"
          ]
        }
      ]
    },
    {
      "cell_type": "code",
      "execution_count": null,
      "metadata": {
        "id": "rGWlojJwOEjL"
      },
      "outputs": [],
      "source": [
        "# Прочитаем датасет\n",
        "# your code here\n",
        "\n",
        "# Заменим пропуски категориальных переменных\n",
        "# your code here\n",
        "\n",
        "# Отделим X и y\n",
        "# your code here\n",
        "\n",
        "# Разделим на категориальные признаки и числовые\n",
        "X_numerical = # your code here\n",
        "X_categorical = # your code here"
      ]
    },
    {
      "cell_type": "markdown",
      "metadata": {
        "id": "ch0M2v8Akirw"
      },
      "source": [
        "В начале поработаем только с категориальными признаками"
      ]
    },
    {
      "cell_type": "code",
      "execution_count": null,
      "metadata": {
        "id": "QIYErZMnP75Z"
      },
      "outputs": [],
      "source": [
        "from sklearn.model_selection import train_test_split\n",
        "\n",
        "X_train, X_test, y_train, y_test = train_test_split(X_categorical, y, test_size=0.25, random_state=777, stratify=y)"
      ]
    },
    {
      "cell_type": "markdown",
      "metadata": {
        "id": "m5LjHkuCP75Z"
      },
      "source": [
        "#### __Задание 3. OrdinalEncoder__  (0.5 балла)\n",
        "\n",
        "Закодируйте категориальные признаки с помощью `OrdinalEncoder`. Посчитайте качество (в этом задании будем работать c __`AUC-PR`__) при применении логистической регрессии. Замерьте время, потребовавшееся на обучение модели, с учетом кодирования признаков."
      ]
    },
    {
      "cell_type": "code",
      "execution_count": null,
      "metadata": {
        "id": "bdZT2tXXP75a"
      },
      "outputs": [],
      "source": [
        "# your code here"
      ]
    },
    {
      "cell_type": "markdown",
      "metadata": {
        "id": "ScIo7NthP75a"
      },
      "source": [
        "#### __Задание 4. One-Hot Encoding__ (0.5 балла)\n",
        "\n"
      ]
    },
    {
      "cell_type": "markdown",
      "metadata": {
        "id": "p3sFuKAtLwOx"
      },
      "source": [
        "Закодируйте все категориальные признаки с помощью one-hot-кодирования. Обучите логистическую регрессию и посмотрите, как изменилось качество модели (в сравнении с тем, что было до кодирования). Измерьте время, потребовавшееся на кодирование категориальных признаков и обучение модели."
      ]
    },
    {
      "cell_type": "code",
      "execution_count": null,
      "metadata": {
        "id": "t4PbjLIHP75a"
      },
      "outputs": [],
      "source": [
        "# your code here"
      ]
    },
    {
      "cell_type": "markdown",
      "metadata": {
        "id": "9p-qOs6lP75b"
      },
      "source": [
        "Как можно заметить, one-hot-кодирование может сильно увеличивать количество признаков. Это сказывается на объеме необходимой памяти, особенно, если некоторый признак имеет большое количество значений.\n"
      ]
    },
    {
      "cell_type": "markdown",
      "metadata": {
        "id": "l1q3k3yaLF8Y"
      },
      "source": [
        "#### __Задание 5. Mean-target Encoding__ (1 балл)"
      ]
    },
    {
      "cell_type": "markdown",
      "metadata": {
        "id": "tanu5Hm5Lr7R"
      },
      "source": [
        "> Проблемы разрастания числа признаков можно избежать в другом способе кодирования категориальных признаков — mean-target encoding (для простоты будем называть это __счётчиками__). Сравним эффективность методов в рамках нашей маркетинговой задачи.\n",
        "\n",
        "> Основная идея в том, что важны не сами категории, а значения целевой переменной, которые имеют объекты этой категории. Каждый категориальный признак мы заменим средним значением целевой переменной по всем объектам этой же категории:\n",
        "\n",
        "$$\n",
        "g_j(x, X) = \\frac{\\sum_{i=1}^{\\ell} [f_j(x) = f_j(x_i)][y_i = +1]}{\\sum_{i=1}^{\\ell} [f_j(x) = f_j(x_i)]}\n",
        "$$\n",
        "\n",
        "Закодируйте категориальные переменные с помощью счётчиков (ровно так, как описано выше, без каких-либо хитростей). Обучите логистическую регрессию и посмотрите на качество модели на тестовом множестве.\n",
        "\n",
        "Сравните время обучения с предыдущими экспериментами (с учетом кодирования признаков)."
      ]
    },
    {
      "cell_type": "code",
      "execution_count": null,
      "metadata": {
        "id": "v9MNSGWrgz5-"
      },
      "outputs": [],
      "source": [
        "# your code here"
      ]
    },
    {
      "cell_type": "markdown",
      "metadata": {
        "id": "ABXherJ3LGBj"
      },
      "source": [
        "##### __Бонус: Эффективная реализация (1 балл)__\n",
        "\n",
        "Здесь и далее реализуйте вычисление счетчиков с помощью трансформера (наследуйтесь от классов `BaseEstimator, TransformerMixin` из `sklearn.base`). Обратите внимание, что все вычисления должны быть векторизованными, трансформер не должен модифицировать передаваемую ему выборку inplace, а все необходимые статистики нужно считать только по обучающей выборке в методе `fit`. Ваш трансформер должен принимать при инициализации список из категориальных признаков и изменять только их."
      ]
    },
    {
      "cell_type": "code",
      "execution_count": null,
      "metadata": {
        "id": "Kk8D4dDuP75b"
      },
      "outputs": [],
      "source": [
        "# your code here"
      ]
    },
    {
      "cell_type": "markdown",
      "metadata": {
        "id": "bH-JPoINqJ62"
      },
      "source": [
        "_______\n",
        "\n",
        "__Методы борьбы с переобучением счетчиков__\n",
        "\n",
        "\n",
        "Отметим, что mean-target encoding признаки сами по себе являются классификаторами и, обучаясь на них, мы допускаем \"утечку\" целевой переменной в признаки. Это ведёт к __переобучению__, поэтому считать такие признаки необходимо таким образом, чтобы при вычислении для конкретного объекта его __целевая метка не использовалась__.\n",
        "\n",
        "Это можно делать следующими способами:\n",
        "1. Вычислять значение счётчика по всем объектам расположенным выше в датасете (например, если у нас выборка отсортирована по времени).\n",
        "2. Вычислять по фолдам, то есть делить выборку на некоторое количество частей и подсчитывать значение признаков по всем фолдам кроме текущего (как делается в кросс-валидации).\n",
        "3. Внесение некоторого шума в посчитанные признаки.\n",
        "\n",
        "#### __Задание 6. Пошумим__  (0.5 балла)\n",
        "\n",
        "Реализуйте корректное вычисление счётчиков самым простым способом — добавление шума к значениям.  При этом постарайтесь найти баланс между борьбой с переобучением и сохранением полезности признаков. Снова обучите логистическую регрессию, оцените качество."
      ]
    },
    {
      "cell_type": "code",
      "execution_count": null,
      "metadata": {
        "id": "HiqJBxrAP75c"
      },
      "outputs": [],
      "source": [
        "# your code here"
      ]
    },
    {
      "cell_type": "markdown",
      "metadata": {
        "id": "UOxwE8rGLSzH"
      },
      "source": [
        "**Вопрос:** Сделайте выводы. Помогло ли добавление шума? Почему?\n",
        "\n",
        "**Ответ:** # your answer here"
      ]
    },
    {
      "cell_type": "markdown",
      "metadata": {
        "id": "1GtUtPCjP75c"
      },
      "source": [
        "##### __Бонус: другой подход__ (0.5 балла)\n",
        "\n",
        "Посчитайте корректные счётчики первым или вторым способов из описанных выше (не забудьте добавить и шум).\n",
        "\n",
        "\n"
      ]
    },
    {
      "cell_type": "code",
      "execution_count": null,
      "metadata": {
        "id": "AjqsSTd6P75c"
      },
      "outputs": [],
      "source": [
        "# your code here"
      ]
    },
    {
      "cell_type": "markdown",
      "metadata": {
        "id": "aMe2b5i6P75d"
      },
      "source": [
        "#### __Задание 7. Сглаживание счетчиков__  (1 балл)"
      ]
    },
    {
      "cell_type": "markdown",
      "metadata": {
        "id": "4gnmTaJqP75d"
      },
      "source": [
        "> Теперь ответим на следующий вопрос: что будет, если некоторая категория встречается в выборке всего несколько раз? По этой причине производится сглаживание счётчиков. Например, на практике хорошие результаты показывает использование сглаживания средним по всей выборке:\n",
        "$$\n",
        "g_j(x, X) = \\frac{\\sum_{i=1}^{\\ell} [f_j(x) = f_j(x_i)][y_i = +1] + C \\times \\text{global_mean}}{\\sum_{i=1}^{\\ell} [f_j(x) = f_j(x_i)] + C}\n",
        "$$\n",
        "где $\\text{global_mean}$ — доля объектов положительного класса в выборке, $C$ — параметр, определяющий степень сглаживания (можно использовать 10 или подобрать для каждого признака свой). Идея в том, что мы \"разбавляем\" среднее значение по категории глобальным средним значением. И тем меньше, чем большее количество объектов этой категории встречается в выборке.\n",
        "\n",
        "> Вместо среднего значения целевой переменной для сглаживания можно использовать любое другое значение от 0 до 1 (этот параметр иногда называют $prior$). Можно сделать несколько признаков с разными значениями параметра. На практике в задачах бинарной классификации полезными бывают даже отрицательные значения!\n",
        "\n",
        "Добавьте сглаживание, описанное выше и повторите эксперименты. Подберите $C$, чтобы качество было лучше, чем при использовании One-Hot-Encoding\n"
      ]
    },
    {
      "cell_type": "code",
      "execution_count": null,
      "metadata": {
        "id": "4xRMlYQlP75d"
      },
      "outputs": [],
      "source": [
        "# your code here"
      ]
    },
    {
      "cell_type": "markdown",
      "metadata": {
        "id": "TksKMbr_P75d"
      },
      "source": [
        "#### **Задание 8. Числовые или категориальные?**  (0.5 балла)\n",
        "\n",
        "Теперь добавим числовые признаки к счётчикам (тем, которые дали наибольший прирост качества).\n",
        "\n",
        "\n",
        "Проверьте их на наличие выбросов и заполните пропуски средним или медианой, подумайте, что лучше в условиях наших данных\n",
        "\n"
      ]
    },
    {
      "cell_type": "code",
      "execution_count": null,
      "metadata": {
        "id": "NGE4O-alP75e"
      },
      "outputs": [],
      "source": [
        "# your code here"
      ]
    },
    {
      "cell_type": "markdown",
      "metadata": {
        "id": "JfqXdaqblnZo"
      },
      "source": [
        " Сейчас для числовых признаков мы ищем линейную зависимость, что в общем случае  может быть неверной гипотезой. Тем не менее, у этих признаков есть довольно много уникальных значений (сколько?), поэтому применять к ним one-hot кодирование может оказаться излишним. Попробуйте закодировать эти признаки с помощью счетчиков. Стало ли лучше?"
      ]
    },
    {
      "cell_type": "code",
      "execution_count": null,
      "metadata": {
        "id": "3p_jGTg-h3MG"
      },
      "outputs": [],
      "source": [
        "# your code here"
      ]
    },
    {
      "cell_type": "markdown",
      "metadata": {
        "id": "ia0qk__0iNCS"
      },
      "source": [
        "> __Замечание.__ Усложнение методов вычисления счётчиков не делают результаты модели гарантированно лучше. Особенно с учётом того, что логистическая регрессия не такая сложная модель, чтобы переобучаться. Поэтому вы необязательно должны были получать на каждом шаге всё лучшие и лучшие результаты (но необходимые результаты у вас должны были получиться)."
      ]
    },
    {
      "cell_type": "markdown",
      "metadata": {
        "id": "2mwXyUnOP75e"
      },
      "source": [
        "\n",
        "\n",
        "Как мы могли пронаблюдать, счётчики являются конкурентной альтернативой one-hot-кодированию. Опишите, какие плюсы и минусы использования счётчиков по сравнению с one-hot-кодированием вы заметили.\n",
        "\n",
        "__Ответ:__ # your answer here"
      ]
    },
    {
      "cell_type": "markdown",
      "metadata": {
        "id": "_oU4I7HjP75f"
      },
      "source": [
        "# Часть 3. Отбор признаков (2 балла)"
      ]
    },
    {
      "cell_type": "markdown",
      "metadata": {
        "id": "EsmcHDoZNu5l"
      },
      "source": [
        "Загрузим данные [UCI Adult Dataset](https://archive.ics.uci.edu/ml/datasets/Adult). Этот набор данных содержит информацию о годовых доходах отдельных людей. В качестве признакового описания используется различная информация о человеке (образование, профессия, брачный статус и т.д.). Целевая переменная является бинарной: больше ли годовой доход 50K долларов или нет."
      ]
    },
    {
      "cell_type": "code",
      "execution_count": null,
      "metadata": {
        "id": "hk7jX8EsNrz2"
      },
      "outputs": [],
      "source": [
        "!wget https://archive.ics.uci.edu/ml/machine-learning-databases/adult/adult.data"
      ]
    },
    {
      "cell_type": "code",
      "execution_count": null,
      "metadata": {
        "id": "XVqw4RQ5iXRC"
      },
      "outputs": [],
      "source": [
        "columns = [\n",
        "    'age', 'workclass', 'fnlwgt', 'education', 'education-num',\n",
        "    'marital-status', 'occupation', 'relationship', 'race', 'sex',\n",
        "    'capital-gain', 'capital-loss', 'hours-per-week', 'native-country',\n",
        "    'income'\n",
        "]\n",
        "\n",
        "df = pd.read_csv('adult.data', header=None, names=columns)\n",
        "df['income'] = (df['income'] != \" <=50K\").astype('int32')\n",
        "df.sample()"
      ]
    },
    {
      "cell_type": "markdown",
      "metadata": {
        "id": "JKb6BsQMP75f"
      },
      "source": [
        "Важной частью процесса построения модели является отбор признаков. На практике многие признаки оказывают малое влияние на модель (при этом их расчёт занимает время) или даже негативно сказываются на качестве модели. Попробуем несколько подходов отбора признаков, оценим, как они влияют на качество модели и сколько времени занимают.\n",
        "\n"
      ]
    },
    {
      "cell_type": "markdown",
      "metadata": {
        "id": "iGqys4ZpiXjr"
      },
      "source": [
        "Разделите выборку на обучающую и тестовую в соотношении 3:1. Зафиксируйте `random_state=777`, также используйте `stratify=True`."
      ]
    },
    {
      "cell_type": "code",
      "execution_count": null,
      "metadata": {
        "id": "M2TT35c_iYc-"
      },
      "outputs": [],
      "source": [
        "# your code here"
      ]
    },
    {
      "cell_type": "markdown",
      "metadata": {
        "id": "-uAlw2X-P75f"
      },
      "source": [
        "Давайте закодируем все категориальные признаки с помощью One-hot Encoding. Сколько новых признаков мы получим?"
      ]
    },
    {
      "cell_type": "code",
      "execution_count": null,
      "metadata": {
        "id": "ILg-JGugP75f"
      },
      "outputs": [],
      "source": [
        "# your code here"
      ]
    },
    {
      "cell_type": "markdown",
      "metadata": {
        "id": "kq-XZwf3P75g"
      },
      "source": [
        "В качестве основной модели будем использовать логистическую регрессию, а целевой метрики — `AUC-PR`. Обучите модель и посчитайте качество на тестовой выборке. Давайте запомним полученное значение."
      ]
    },
    {
      "cell_type": "code",
      "execution_count": null,
      "metadata": {
        "id": "XMH5D_6OP75g"
      },
      "outputs": [],
      "source": [
        "# your code here"
      ]
    },
    {
      "cell_type": "markdown",
      "source": [
        "Допустим, мы хотим оставить только 40 лучших признаков.\n",
        "\n",
        "Заметим, что нельзя оценивать качество по тестовой выборке, иначе мы можем переобучиться, как, например, при настройке гиперпараметров. Разделите обучающую выборку на 2 части, одну из которых, используйте для валидации. Исходную тестовую выборку стоит использовать только для финальной оценки качества после процедуры фильтрации"
      ],
      "metadata": {
        "id": "hrbIEFGUIQ6I"
      }
    },
    {
      "cell_type": "code",
      "source": [
        "# your code here"
      ],
      "metadata": {
        "id": "DuHUvh0UwsxZ"
      },
      "execution_count": null,
      "outputs": []
    },
    {
      "cell_type": "markdown",
      "source": [
        "Попробуем сделать это следующими способами:"
      ],
      "metadata": {
        "id": "hymygH5YwveY"
      }
    },
    {
      "cell_type": "markdown",
      "metadata": {
        "id": "QD7jIiDeP75g"
      },
      "source": [
        "#### __Задание 9. Встроенные методы (0.5 балла)__"
      ]
    },
    {
      "cell_type": "markdown",
      "metadata": {
        "id": "bf2T9xtUP75g"
      },
      "source": [
        "Начнём с отбора признаков с помощью модели. У разных алгоритмов есть разные встроенные способы оценки вклада признаков в предсказание. Как известно, у линейной модели за это отвечают веса, а значит, их модуль можно интерпретировать как важность. Такой метод отбора называются встроенным или embedded method, так как он заложен в особенности модели.\n",
        "\n",
        "Оставьте 40 признаков с наибольшим модулем соответствующего параметра линейной модели. Обучите модели заново и оцените её качество. Замерьте скорость такого отбора признаков.\n",
        "\n"
      ]
    },
    {
      "cell_type": "code",
      "execution_count": null,
      "metadata": {
        "id": "wqOH9EunP75g"
      },
      "outputs": [],
      "source": [
        "# your code here"
      ]
    },
    {
      "cell_type": "markdown",
      "metadata": {
        "id": "CCmtS99eVVrC"
      },
      "source": [
        "Изменилось ли качество? Как?"
      ]
    },
    {
      "cell_type": "markdown",
      "metadata": {
        "id": "E5y5hVyYP75h"
      },
      "source": [
        "Подумаем, что мы не учли. Мы действовали в предположении, что признаки вносят вклад равномерно, и не учитывали их масштаб. Если мы умножим один из признаков в 100 раз, то без учёта регуляризации его вес уменьшится в эти же 100 раз. А мы на основе этого отбираем признаки! Давайте сначала отмасштабируем признаки одним из способов, а только потом будем удалять признаки.\n",
        "\n",
        "Помните, что не все способы одинаково хороши, особенно в условиях наличия выбросов\n",
        "\n",
        "Кстати, в таком случае надо пересчитать качество на всех признаках (сделайте это ниже). Если вы сделали нормирование признаков в самом начале, то попробуйте отобрать признаки на неотмасштабированных данных.\n",
        "\n",
        "Что получилось?"
      ]
    },
    {
      "cell_type": "code",
      "execution_count": null,
      "metadata": {
        "id": "qXytEuBgP75h"
      },
      "outputs": [],
      "source": [
        "# your code here"
      ]
    },
    {
      "cell_type": "markdown",
      "metadata": {
        "id": "OLZJRpxjP75h"
      },
      "source": [
        "Вопрос на засыпку: one-hot кодирование возвращает нам единичные признаки-индикаторы. Попробуйте также отскалировать их, как и обычные числовые, и снова выбрать 40 главных по вкладу признаков. Изменился ли их список? Изменится ли качество?"
      ]
    },
    {
      "cell_type": "code",
      "execution_count": null,
      "metadata": {
        "id": "VpGE8ll5P75h"
      },
      "outputs": [],
      "source": [
        "# your code here"
      ]
    },
    {
      "cell_type": "markdown",
      "metadata": {
        "id": "3nK78Ag2P75i"
      },
      "source": [
        "#### __Задание 10. Методы фильтрации (0.5 балла)__\n",
        "\n",
        "\n",
        "Давайте отбирать признаки умнее, а именно через подсчёт некоторой функции для каждого признака. На основании значений этой функции будем оставлять наиболее важные признаки. Методы этого семейства называют фильтрующими или  filter methods.\n",
        "\n",
        "Одна из самых простых функция - корреляция между признаком и целевой переменной. Подумайте, какая взаимосвязь между корреляцией и предсказательной способностью модели, и как бы вы использовали информацию о корреляции для отбора признаков\n",
        "\n",
        "**Ответ:** # your code here\n",
        "\n",
        "Посчитайте корреляцию каждого признака с таргетом и отфильтруйте 40 признаков исходя из того, что вы описали, после чего замерьте качество и время отбора\n",
        "\n"
      ]
    },
    {
      "cell_type": "code",
      "execution_count": null,
      "metadata": {
        "id": "0snv1D-hP75i"
      },
      "outputs": [],
      "source": [
        "# your code here"
      ]
    },
    {
      "cell_type": "markdown",
      "source": [
        "В качестве еще одной функция можно считать t-статистику:\n",
        "\n",
        "$$t(j) = \\frac{|\\mu_+ - \\mu_-|}{\\sqrt{\\frac{n_+ \\sigma^2_+ + n_- \\sigma^2_-}{n_+ + n_-}}},$$\n",
        "\n",
        "где $\\mu$, $\\sigma$, $n$ соответственно среднее, стандартное отклонение и количество объектов каждого из классов.\n",
        "\n",
        "Оставьте 40 признаков с наибольшим значением $t$, замерьте качество и скорость отбора признаков."
      ],
      "metadata": {
        "id": "2E6yxKB2KBav"
      }
    },
    {
      "cell_type": "code",
      "source": [
        "# your code here"
      ],
      "metadata": {
        "id": "a-IuzDptKE5J"
      },
      "execution_count": null,
      "outputs": []
    },
    {
      "cell_type": "markdown",
      "metadata": {
        "id": "zO63RNCLP75i"
      },
      "source": [
        "#### __Задание 11. Методы-обёртки__ (1 балл)\n",
        "\n",
        "Третий из рассматриваемых нами методов работает следующим образом: мы исключаем признаки по очереди и смотрим, как это влияет на качество. Удаляем признаки таким жадным способом, пока не окажется выполненым некоторое условие (количество признаков или ухудшение качества). Более конкретно, алгоритм выглядит так:\n",
        "\n",
        "- $k$ - число признаков, которых мы хотим оставить\n",
        "- $m$ - число признаков, которых мы выбрасываем на каждой итерации, оно же длина шага\n",
        "\n",
        "Шаг $i$:\n",
        "- $F_i$ - набор признаков (равный всему множеству признаков на i=0)\n",
        "- $M_i$ - их число, в общем случае $\\max(k, M_{i-1} - m)$\n",
        "1. Если признаков осталось ровно $k$, либо метрика стала уменьшаться более, чем на $\\epsilon$ — останавливаемся (не наш случай, но так тоже можно)\n",
        "2. Обучаем модель $a_i$ на наборе $F_i$, после чего оцениваем важность признаков (любым из способов выше или какими-нибудь ещё)\n",
        "3. Отбираем $\\min(M_i - k, m)$ наиболее бесполезных, согласно пункту 2, признаков (берем $m$, если можем, иначе оставляем вплоть до k), удаляем, переходим к следующему шагу\n",
        "\n",
        "Снова оставьте только 40 признаков и оцените качество на тестовой выборке. Подберите длину шага из каких-то соображений (каких, кстати?) и замерьте время работы метода"
      ]
    },
    {
      "cell_type": "code",
      "execution_count": null,
      "metadata": {
        "id": "ISGdzDQQP75j"
      },
      "outputs": [],
      "source": [
        "# your code here"
      ]
    },
    {
      "cell_type": "markdown",
      "metadata": {
        "id": "1AEL4z61P75j"
      },
      "source": [
        "Стоит отметить, что с помощью такого метода можно пойти и в обратную сторону. Попробуйте _добавлять_ самые полезные признаки в выборку до тех пор, пока не наберется 40 штук. Найдется ли порог, при котором добавление следующих признаков будет только ухудшать качество модели?"
      ]
    },
    {
      "cell_type": "code",
      "execution_count": null,
      "metadata": {
        "id": "ZzF8TzVFP75j"
      },
      "outputs": [],
      "source": [
        "# your code here"
      ]
    },
    {
      "cell_type": "markdown",
      "metadata": {
        "id": "wj6a-BERP75j"
      },
      "source": [
        "Давайте подведём итоги по отбору признаков. Назовите преимущества и недостатки каждого из методов. Какой метод привёл к наилучшему качеству?\n",
        "\n",
        "**Ответ:** # your code here"
      ]
    },
    {
      "cell_type": "markdown",
      "metadata": {
        "id": "zrR06pp7P75k"
      },
      "source": [
        "# Часть 4. Оценка экономического эффекта модели (2 балла)\n",
        "\n"
      ]
    },
    {
      "cell_type": "markdown",
      "metadata": {
        "id": "CmgOdf7GT3uh"
      },
      "source": [
        "В данной части мы займемся тем, что от вас скорее всего потребуется на реальной работе (помимо перекладки `json`, разумеется). А именно:\n",
        "- мы соберем несколько специализированных метрик качества,\n",
        "- попытаемся настроить модель на максимизацию _прибыли_,\n",
        "- оценим, сколько вообще получится заработать на этом.\n",
        "\n",
        "Разумеется, здесь будет сделано множество упрощающих жизнь допущений, но обо всем по порядку. Если вы всё прослушали на экономике, то напомним, что выручка — это сколько денег нам принесли клиенты, а прибыль — выручка за вычетом расходов на зарплату и прочее."
      ]
    },
    {
      "cell_type": "markdown",
      "metadata": {
        "id": "NQkW5Xh6yip2"
      },
      "source": [
        "\n",
        "#### __Задание 12. Прогноз по доходам и расходам__ (1 балл)\n",
        "\n",
        "В этой части мы будем работать с данными [UCI Bank Marketing Dataset](https://archive.ics.uci.edu/ml/datasets/bank+marketing). Этот датасет содержит информацию о банковском телефонном маркетинге.\n",
        "\n",
        "__Объектом__ здесь является телефонный звонок потенциальному клиенту с предложением некоторой услуги (утверждается, что это краткосрочный депозит). В качестве признакового описания используются характеристики клиента (образование, брак и т.д.), данные о звонке и различные экономические индикаторы - более подробная информация представлена в файле `bank-additional-names.txt`.\n",
        "__Целевая переменная__ - ответ клиента (согласился ли он открыть депозит?)"
      ]
    },
    {
      "cell_type": "code",
      "execution_count": null,
      "metadata": {
        "id": "e9WBqQd1aAjp"
      },
      "outputs": [],
      "source": [
        "!wget https://archive.ics.uci.edu/ml/machine-learning-databases/00222/bank-additional.zip\n",
        "!unzip bank-additional.zip\n",
        "df = pd.read_csv('bank-additional/bank-additional-full.csv', sep=';')"
      ]
    },
    {
      "cell_type": "code",
      "execution_count": null,
      "metadata": {
        "id": "Gbw5k7lMaYT1"
      },
      "outputs": [],
      "source": [
        "df.head()"
      ]
    },
    {
      "cell_type": "code",
      "execution_count": null,
      "metadata": {
        "id": "qmxCn_Pz3kJB"
      },
      "outputs": [],
      "source": [
        "X = df.drop(columns=['duration', 'y'])\n",
        "y = (df.y == 'yes')"
      ]
    },
    {
      "cell_type": "markdown",
      "metadata": {
        "id": "lMKgtxfwaBEQ"
      },
      "source": [
        "В этой части не нужно делить выборку - мы будем использовать кросс-валидацию.  Используйте наиболее подходящие с вашей точки зрения параметры и их значения (`shuffle`, `stratify`, число фолдов, ...). По кросс-валидации у вас получится несколько вариантов обучающей и тестовой выборки. Для удобства можно воспользоваться шаблоном ниже, который по ходу выполнения задания будет обрастать функционалом. Как обычно, это необязательно, но сохранять результаты экспериментов очень и очень желательно, в конце мы будем их сравнивать"
      ]
    },
    {
      "cell_type": "code",
      "source": [
        "from collections import defaultdict\n",
        "from sklearn.model_selection import KFold\n",
        "\n",
        "def cross_validate(\n",
        "    X,\n",
        "    y,\n",
        "    n_splits=5,\n",
        "    random_state=None,\n",
        "    shuffle=False,\n",
        "    # другие аргументы, которые могут вам пригодиться дальше по пунктам\n",
        "):\n",
        "    metrics = []\n",
        "    # или любой другой фолд, посмотрите в model_selection\n",
        "    kf = KFold(n_splits=n_splits, random_state=random_state, shuffle=shuffle)\n",
        "\n",
        "    for train_index, test_index in kf.split(X):\n",
        "\n",
        "        # возьмите датасет и обучите модель\n",
        "        # your code here\n",
        "\n",
        "        # посчитайте метрики, которые вам нужны и добавьте результаты с каждого фолда\n",
        "        metric_dict = {\n",
        "            # \"metric_key\": metric_value\n",
        "        }\n",
        "        metrics.append(metric_dict)\n",
        "\n",
        "    # осталось только красиво всё обернуть\n",
        "    return pd.DataFrame(metrics)"
      ],
      "metadata": {
        "id": "DWH-ApMjY4et"
      },
      "execution_count": null,
      "outputs": []
    },
    {
      "cell_type": "markdown",
      "metadata": {
        "id": "YIX-omTIyxtU"
      },
      "source": [
        "Выберите метрику классификации, которая вам кажется подходящей, и обучите логистическую регрессию на каждой обучающей выборке (закодируйте категориальные признаки способом, который выше вам понравился больше всех, отнормируйте числовые, гиперпараметры оставьте по умолчанию), сделайте предсказания для соответствующих тестовых выборок, выведите результаты"
      ]
    },
    {
      "cell_type": "code",
      "execution_count": null,
      "metadata": {
        "id": "5V3f4cQryx6c"
      },
      "outputs": [],
      "source": [
        "# your code here"
      ]
    },
    {
      "cell_type": "markdown",
      "metadata": {
        "id": "CcuHfZjfzmnt"
      },
      "source": [
        "Допустим, работники вашего колл-центра получают за один звонок клиенту 2 доллара. При согласии клиента на предлагаемые условия он принесет в банк 10 долларов. Предположим, что всем положительным прогнозам ваши сотрудники решили позвонить.\n",
        "\n",
        "В качестве бизнес-метрики в нашей задаче мы будем считать прибыль aka `profit`, соответственно лучшую модель будем выбирать исходя из этого.\n",
        "Посчитайте на всех тестовых выборках выручку и сохраните результаты для бизнес-метрики вместе с предыдущей метрикой, которую вы выбрали\n",
        "\n",
        "Ответьте на вопросы:\n",
        "- Сколько денег вы в среднем заработаете?\n",
        "- Какое получилось стандартное отклонение профита?\n",
        "- Сколько из заработанных денег придётся отдать операторам вашего колл-центра?\n",
        "- Пропорциональна ли бизнес-метрика выбранной метрике классификации?"
      ]
    },
    {
      "cell_type": "code",
      "execution_count": null,
      "metadata": {
        "id": "0okqAh-AzWTX"
      },
      "outputs": [],
      "source": [
        "# your code here"
      ]
    },
    {
      "cell_type": "markdown",
      "metadata": {
        "id": "Da1x6u6wP75k"
      },
      "source": [
        "Внесем некоторую долю случайности. Пусть теперь согласный на условия клиент будет приносить не 10 долларов, а случайную величину, равномерно распределенную в интервале $[0;20)$. Проделайте все те же самые действия. Для имитации реальной ситуации **НЕ** фиксируйте `random_seed` при подсчете выручки с клиента (для разбиения на фолды разумеется оставьте). Что получилось?"
      ]
    },
    {
      "cell_type": "code",
      "execution_count": null,
      "metadata": {
        "id": "0AKmJpRAP75k"
      },
      "outputs": [],
      "source": [
        "# your code here"
      ]
    },
    {
      "cell_type": "markdown",
      "metadata": {
        "id": "O1g9FPExP75k"
      },
      "source": [
        "Настройте по кросс-валидации коэффициент регуляризации модели для максимизации прибыли (считайте как случайную величину выше). Удалось ли получить какой-то выигрыш? При каком коэффициенте регуляризациии прибыль максимальна? Постройте график зависимости ожидаемой прибыли от коэффициента"
      ]
    },
    {
      "cell_type": "code",
      "execution_count": null,
      "metadata": {
        "id": "YXx7qU5PP75l"
      },
      "outputs": [],
      "source": [
        "# your code here"
      ]
    },
    {
      "cell_type": "markdown",
      "metadata": {
        "id": "sdptRdaIP75l"
      },
      "source": [
        "Попробуйте запустить перебор несколько раз. Находится ли каждый раз один и тот же \"лучший\" коэффициент? Присутствует ли какая-то закономерность? Какие вы можете сделать из этого выводы?"
      ]
    },
    {
      "cell_type": "code",
      "execution_count": null,
      "metadata": {
        "id": "inD5UMbGP75l"
      },
      "outputs": [],
      "source": [
        "# your code here"
      ]
    },
    {
      "cell_type": "markdown",
      "metadata": {
        "id": "J0j8HubaP75l"
      },
      "source": [
        "#### __Задание 13. Ключевая метрика__ (1 балл)\n",
        "\n",
        "Выше мы уже описали примерную экономическую модель вашей задачи. Как вы считаете, что для вашего бизнеса важнее — хороший precision или recall модели? Почему?\n",
        "\n",
        "__Ответ:__ # your answer here\n",
        "\n"
      ]
    },
    {
      "cell_type": "markdown",
      "metadata": {
        "id": "4LFRNnrtP75m"
      },
      "source": [
        "> Вспомним, что на самом деле логистическая регрессия предсказывает нам вероятности положительного класса для объекта. Возможно, путем настройки __порога бинаризации__ этих вероятностей мы сможем получить какой-то выигрыш?\n",
        "\n",
        "Проверьте ваши рассуждения выше с помощью настройки порога бинаризации на кросс-валидации для максимизации прибыли. Воспользуйтесь сеткой от 0 до 1 с шагом 0.01. Напомним, что снижение порога дает нам более высокий recall и более низкий precision, и наоборот. Добавьте новую ML-метрику в ваш CV-пайплайн, найдите такой порог, при котором бизнес-метрика максимальна, и проверьте, связана ли новая ML метрика с профитом"
      ]
    },
    {
      "cell_type": "code",
      "execution_count": null,
      "metadata": {
        "id": "3ALl1YeBP75m"
      },
      "outputs": [],
      "source": [
        "# your code here"
      ]
    },
    {
      "cell_type": "markdown",
      "metadata": {
        "id": "fLL7uqb2P75m"
      },
      "source": [
        "Постройте график зависимости прибыли от порога бинаризации. Выделите наилучший порог\n",
        "\n",
        "\n"
      ]
    },
    {
      "cell_type": "code",
      "execution_count": null,
      "metadata": {
        "id": "K2D3BkVsP75m"
      },
      "outputs": [],
      "source": [
        "# your code here"
      ]
    },
    {
      "cell_type": "markdown",
      "metadata": {
        "id": "pjw2DImXXoFx"
      },
      "source": [
        "__Вопрос:__ Замечаете ли вы какую-то закономерность? Для правильного ответа на этот вопрос попробуйте запустить несколько раз и задумайтесь, почему порог получается в какой-то конкретной области?"
      ]
    },
    {
      "cell_type": "markdown",
      "metadata": {
        "id": "WfnHUQ7sXouL"
      },
      "source": [
        "__Ответ:__ # your answer here"
      ]
    },
    {
      "cell_type": "markdown",
      "source": [
        "Наконец, чтобы точнее понять, что наша модель лучше исходной, посчитайте среднее и стандартное отклонение по фолдам бизнес-метрики для оптимизированной модели (гиперпараметры + порог) и дефолтной логистической регрессии. Проверьте, действительно ли удалось добиться значимого изменения прибыли — примените какой-либо статистический тест (например, парный t-критерий с $\\alpha=0.95$) к метрике, полученной двумя этими моделями"
      ],
      "metadata": {
        "id": "7tyapxyGdrSX"
      }
    },
    {
      "cell_type": "code",
      "source": [
        "# your code here"
      ],
      "metadata": {
        "id": "kosI-CEjeeSb"
      },
      "execution_count": null,
      "outputs": []
    },
    {
      "cell_type": "markdown",
      "source": [
        "# __Бонусная часть. Многоклассовая классификация__ (1.5 балла)\n",
        "\n",
        "Как известно, некоторые задачи не ограничиваются всего лишь двумя классами. На лекции вы проходили несколько способов обобщения линейных моделей на этот случай: One-vs-Rest и One-vs-One. Ниже мы посмотрим, в чём преимущества и недостатки обоих подходов, а так же попробуем ещё один чуть более экзотический метод\n",
        "\n",
        "#### **Задание 14. One-vs-Rest vs One-vs-One** (0.5 балла)\n",
        "\n",
        "В качестве [датасета](https://www.kaggle.com/datasets/thedevastator/higher-education-predictors-of-student-retention/data) здесь и ниже мы будем брать очень жизненные и актуальные данные о том, доучится студент или нет, в зависимости от курсов, возраста, гендера и прочих (не)осуждаемых признаков."
      ],
      "metadata": {
        "id": "eELf9JBWM9D5"
      }
    },
    {
      "cell_type": "code",
      "source": [
        "import kagglehub\n",
        "\n",
        "path = kagglehub.dataset_download(\"thedevastator/higher-education-predictors-of-student-retention\") + \"/dataset.csv\"\n",
        "\n",
        "features = [\"Marital status\", \"Course\", \"Nacionality\", \"Gender\", \"Age at enrollment\"]\n",
        "target = \"Target\""
      ],
      "metadata": {
        "id": "23xX_I3bO3uQ"
      },
      "execution_count": null,
      "outputs": []
    },
    {
      "cell_type": "markdown",
      "source": [
        "Будем смотреть только какое-то подмножество наиболее весёлых факторов. От вас по классике потребуется их преобразовать, в зависимости от того, числовые они или категориальные и **закодировать таргет чиселками!!!**"
      ],
      "metadata": {
        "id": "KMuDGcDiO6bI"
      }
    },
    {
      "cell_type": "code",
      "source": [
        "# your code here"
      ],
      "metadata": {
        "id": "_Y8NbWwPPVHZ"
      },
      "execution_count": null,
      "outputs": []
    },
    {
      "cell_type": "code",
      "source": [
        "X_train, X_test, y_train, y_test = train_test_split(X, y, random_state=228, shuffle=True, test_size=0.2)"
      ],
      "metadata": {
        "id": "f8kXNmpIPYdA"
      },
      "execution_count": null,
      "outputs": []
    },
    {
      "cell_type": "markdown",
      "source": [
        "Ваш следующий шаг - посмотреть, каким образом в `sklearn` реализованы OvR и OvO, обучить таким образом логистическую регрессию с `max_iter=10000`, далее выбрать какую-то метрику (и её усреднение, его выбор тоже аргументируйте), и сравнить следующие параметры:\n",
        "- число классификаторов\n",
        "- скорость обучения\n",
        "- качество модели\n",
        "\n",
        "Также сохраните куда-нибудь предсказания вероятностей у каждой из моделей. Это можно сделать не одним способом, но возможно вам чуть с этим поможет следующий пункт\n"
      ],
      "metadata": {
        "id": "j4cGqq_kPfrQ"
      }
    },
    {
      "cell_type": "code",
      "source": [
        "# your code here"
      ],
      "metadata": {
        "id": "BuO6VHE1P4dA"
      },
      "execution_count": null,
      "outputs": []
    },
    {
      "cell_type": "markdown",
      "source": [
        "Как вы объясните полученные результаты?\n",
        "\n",
        "__Ответ:__ # your code here"
      ],
      "metadata": {
        "id": "rCxJ7e3QYsgF"
      }
    },
    {
      "cell_type": "markdown",
      "source": [
        "#### __Задание 15. Softmax регрессия__ (1 балл)\n",
        "\n",
        "Однако любознательные машинисты могут задаться вопросом \"А зачем нам вся эта шляпа, если у сигмоиды есть обобщение на случай многоклассовой классификации?\" Если вам понравилось считать градиенты в прошлом дз, или вам нравится обучать нейросети, этот пункт для вас. Здесь мы попробуем построить одну-единственную модель, которая будет всё предсказывать, а также сравним с вариантами выше"
      ],
      "metadata": {
        "id": "075hgy9sP7QX"
      }
    },
    {
      "cell_type": "markdown",
      "source": [
        "Начнём с подсчёта лосса. Вспомним, что логистическая функция потерь это частный случай кросс-энтропии, её и будем пытаться оптимизировать.\n",
        "\n",
        "$$\n",
        "\\text{CE}(X, y) = -\\frac{1}{N}\\sum_i \\sum_k [y_i = k] \\log p(x_i = k)\n",
        "$$\n",
        "Вероятности в данном случае будем считать при помощи софтмакса, что есть общий случай сигмоиды\n",
        "\n",
        "$$\n",
        "p(x_i) = \\text{Softmax}(a(x_i)); \\quad\n",
        "\\text{Softmax}(x)_k = \\frac{e^{x_{k}}}{\\sum_j e^{x_{j}}} \\\\\n",
        "$$\n",
        "\n",
        "Предсказание модели на одном объекта будет делаться уже при помощи матрицы весов, посклоьку выходов несколько\n",
        "\n",
        "$$\n",
        "a(x_i) = x_i\\cdot W \\\\\n",
        "$$\n",
        "\n",
        "Ниже предлагается написать код для такой функции потерь. Если необходимо, модифицируйте шаблон по своему усмотрению (вспомогательные функции, новые аргументы, всё, что душа пожелает)"
      ],
      "metadata": {
        "id": "HgBxUToxRPN8"
      }
    },
    {
      "cell_type": "code",
      "source": [
        "from typing import Iterable, Optional\n",
        "from torch.nn.functional import cross_entropy\n",
        "import torch\n",
        "\n",
        "def custom_ce(\n",
        "    y_pred: np.ndarray[float],\n",
        "    y_true: np.ndarray[int],\n",
        ") -> float:\n",
        "    # your code here\n",
        "    return"
      ],
      "metadata": {
        "id": "AYsBvtxmTK5d"
      },
      "execution_count": null,
      "outputs": []
    },
    {
      "cell_type": "code",
      "source": [
        "for _ in range(1000):\n",
        "\n",
        "    n_objects = np.random.randint(1, 100)\n",
        "    n_classes = np.random.randint(2, 20)\n",
        "    y_pred = np.random.normal(0, 1, (n_objects, n_classes))\n",
        "    y_true = np.random.randint(low=0, high=n_classes, size=(n_objects,))\n",
        "\n",
        "    your_ce = custom_ce(y_pred, y_true) # не забудьте поправить, если меняли шаблон\n",
        "    torch_ce = cross_entropy(torch.tensor(y_pred), torch.tensor(y_true))\n",
        "    assert np.allclose(your_ce, torch_ce), \"Что-то пошло не так\""
      ],
      "metadata": {
        "id": "JOK4eJXpSamh"
      },
      "execution_count": null,
      "outputs": []
    },
    {
      "cell_type": "markdown",
      "source": [
        "Дальше самая интересная часть - нужно вывести производную этой функции потерь (на всякий случай уточним, что `torch` использовать нельзя, разве что для самопроверки). Полезные факты, которые вам могут пригодиться:\n",
        "\n",
        "- в матричном виде найти производную непросто, попробуйте сперва сделать это для одного объекта, обобщить будет полегче\n",
        "- логсофтмакс дифференцировать гораздо легче, чем просто софтмакс\n",
        "- не забывайте про правило дифференцирования сложной функции\n",
        "- поскольку веса в данном случае матрица, результат будет тоже матрица, учтите при сверке размерностей\n",
        "- если вы не придумали, как преобразовать индикаторы в векторный вид, сейчас самое время"
      ],
      "metadata": {
        "id": "X9MLDIQrT24U"
      }
    },
    {
      "cell_type": "code",
      "source": [
        "def ce_gradient(X: np.ndarray, W: np.ndarray, y: np.ndarray) -> np.ndarray[float]:\n",
        "    # your code here\n",
        "    return"
      ],
      "metadata": {
        "id": "tYHes6fVVO7s"
      },
      "execution_count": null,
      "outputs": []
    },
    {
      "cell_type": "markdown",
      "source": [
        "Дальше дело за малым. Вспомните (или узнайте), как делается градиентный спуск, и дополните класс софтмакс-регрессии ниже. Здесь разумнее использовать критерий останова по итерациям, но логрег из `sklearn` устроен немного хитрее. Если хотите добавить еще критерии останова, какие-то другие параметры, то пожалуйста"
      ],
      "metadata": {
        "id": "x8KP9v4WW6UL"
      }
    },
    {
      "cell_type": "code",
      "source": [
        "class SoftmaxRegression:\n",
        "\n",
        "    def __init__(self, lr=1e-3, max_iter=10000):\n",
        "        self.W = None\n",
        "        self.max_iter = max_iter\n",
        "        self.lr = lr\n",
        "\n",
        "    def fit(self, X, y):\n",
        "        # your code here\n",
        "\n",
        "    def predict(self, X, y=None):\n",
        "        # your code here"
      ],
      "metadata": {
        "id": "n133i8Nlc9Et"
      },
      "execution_count": null,
      "outputs": []
    },
    {
      "cell_type": "markdown",
      "source": [
        "Обучите на тех же данных, что и выше, замерьте те же три параметра, плюс сравните значения кросс-энтропии для уже трёх моделей. Сравните модели между собой и выберите фаворита в данной задаче."
      ],
      "metadata": {
        "id": "-JSpEv6oXSIX"
      }
    },
    {
      "cell_type": "code",
      "source": [
        "# your code here"
      ],
      "metadata": {
        "id": "6sUQDl5_Y8HB"
      },
      "execution_count": null,
      "outputs": []
    },
    {
      "cell_type": "markdown",
      "source": [
        "__Ответ__: # your text here"
      ],
      "metadata": {
        "id": "U6xDfck0cfrr"
      }
    },
    {
      "cell_type": "markdown",
      "metadata": {
        "id": "ACYk14eyP75n"
      },
      "source": [
        "__Бонус (0.01 балла):__ что вы кушали в день сдачи данного ДЗ на завтрак?\n",
        "\n",
        "__Ответ:__ # your answer here"
      ]
    }
  ],
  "metadata": {
    "colab": {
      "collapsed_sections": [
        "xvhLtt4OP75Q",
        "RvWzOe4wP75T",
        "4VbJR0e3P75U"
      ],
      "provenance": []
    },
    "kernelspec": {
      "display_name": "Python 3 (ipykernel)",
      "language": "python",
      "name": "python3"
    },
    "language_info": {
      "codemirror_mode": {
        "name": "ipython",
        "version": 3
      },
      "file_extension": ".py",
      "mimetype": "text/x-python",
      "name": "python",
      "nbconvert_exporter": "python",
      "pygments_lexer": "ipython3",
      "version": "3.9.7"
    }
  },
  "nbformat": 4,
  "nbformat_minor": 0
}
